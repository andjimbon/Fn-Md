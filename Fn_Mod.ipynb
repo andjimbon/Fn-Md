{
  "nbformat": 4,
  "nbformat_minor": 0,
  "metadata": {
    "colab": {
      "name": "Fn_Mod.ipynb",
      "provenance": [],
      "collapsed_sections": [
        "n1WqMUCITclk",
        "EXmE5yc3WAwa",
        "DrBQunHPYesL",
        "1ZKJotfpbPMz",
        "BLbvcORTsp2P",
        "JSx3hz1D2NN4",
        "yuZiQk9X2az8",
        "_1FPD5oms4x1",
        "mfb5mgSEpja_",
        "u0YOpKUMaGrZ",
        "k5PEC-AV2c_a",
        "oncWSWPh7Ucn",
        "DMo8ihlL6mDg",
        "72zGQ1Cv6zOx",
        "JmffGWEH66wW",
        "tiFxLgpI9jh7",
        "irCQSccV4H7Y",
        "Dtmc2lfM8RgY",
        "R75zfYUm8UM7",
        "QFh0xejD8ZB9",
        "BgU8ZUGD8cMm",
        "eSfoe6ho8rqn",
        "bc_3b6YDINWo",
        "ElQgklPXIKHq",
        "ugUoWz428uPb",
        "aY3DUB2c89r0",
        "-Ib8ePyUbY6k",
        "wnet1nJubtR-",
        "nb-7Nd8j58re"
      ],
      "toc_visible": true
    },
    "kernelspec": {
      "name": "python3",
      "display_name": "Python 3"
    }
  },
  "cells": [
    {
      "cell_type": "markdown",
      "metadata": {
        "id": "-mEern5Or5pE",
        "colab_type": "text"
      },
      "source": [
        "## Install"
      ]
    },
    {
      "cell_type": "code",
      "metadata": {
        "id": "vsQT1ZALVQ7G",
        "colab_type": "code",
        "colab": {}
      },
      "source": [
        "!pip install scrapy"
      ],
      "execution_count": 0,
      "outputs": []
    },
    {
      "cell_type": "code",
      "metadata": {
        "id": "LM5jj_5WViKn",
        "colab_type": "code",
        "colab": {}
      },
      "source": [
        "!pip install pygsheets"
      ],
      "execution_count": 0,
      "outputs": []
    },
    {
      "cell_type": "code",
      "metadata": {
        "id": "Q3c63v7eAa4-",
        "colab_type": "code",
        "colab": {}
      },
      "source": [
        "!pip install unidecode"
      ],
      "execution_count": 0,
      "outputs": []
    },
    {
      "cell_type": "markdown",
      "metadata": {
        "id": "xmnv44-1VpJS",
        "colab_type": "text"
      },
      "source": [
        "## Imports"
      ]
    },
    {
      "cell_type": "code",
      "metadata": {
        "id": "CwC7GtkrVjja",
        "colab_type": "code",
        "colab": {}
      },
      "source": [
        "import pandas as pd\n",
        "import numpy as np\n",
        "import pygsheets\n",
        "from itertools import chain\n",
        "import re\n",
        "from pandas_datareader import data as web\n",
        "import warnings\n",
        "warnings.filterwarnings(\"ignore\")\n",
        "\n",
        "\n",
        "# Google Auth\n",
        "import google.auth\n",
        "from google.colab import auth\n",
        "auth.authenticate_user()\n",
        "credentials, _ = google.auth.default()\n",
        "gs = pygsheets.client.Client(credentials)\n",
        "\n",
        "# Import Custom Libraries\n",
        "!cp \"drive/My Drive/Colab Notebooks/financial_statements.py\" .\n",
        "!cp \"drive/My Drive/Colab Notebooks/spreadsheet_func.py\" .\n",
        "from financial_statements import *\n",
        "from spreadsheet_func import *\n",
        "\n",
        "\n",
        "pd.options.display.float_format = '{0:,.2f}'.format"
      ],
      "execution_count": 0,
      "outputs": []
    },
    {
      "cell_type": "markdown",
      "metadata": {
        "id": "n1WqMUCITclk",
        "colab_type": "text"
      },
      "source": [
        "## Financial Statements"
      ]
    },
    {
      "cell_type": "markdown",
      "metadata": {
        "id": "EXmE5yc3WAwa",
        "colab_type": "text"
      },
      "source": [
        "### Income Statement"
      ]
    },
    {
      "cell_type": "code",
      "metadata": {
        "id": "RUMY4yEWWEjS",
        "colab_type": "code",
        "colab": {}
      },
      "source": [
        "inc_st = get_income_statement()"
      ],
      "execution_count": 0,
      "outputs": []
    },
    {
      "cell_type": "markdown",
      "metadata": {
        "id": "DrBQunHPYesL",
        "colab_type": "text"
      },
      "source": [
        "### Balance Sheets"
      ]
    },
    {
      "cell_type": "code",
      "metadata": {
        "id": "NBVqmEgCpy-m",
        "colab_type": "code",
        "colab": {}
      },
      "source": [
        "b_sheet = get_balance_sheet(regroup=True)"
      ],
      "execution_count": 0,
      "outputs": []
    },
    {
      "cell_type": "markdown",
      "metadata": {
        "id": "1ZKJotfpbPMz",
        "colab_type": "text"
      },
      "source": [
        "### CashFlow Statement"
      ]
    },
    {
      "cell_type": "code",
      "metadata": {
        "id": "oF8m3_A8rh4V",
        "colab_type": "code",
        "colab": {}
      },
      "source": [
        "# Regrouped Index\n",
        "cf_st_reg = get_cashflow_statement(regroup=True)\n",
        "# Original\n",
        "cf_st = get_cashflow_statement(regroup=False)"
      ],
      "execution_count": 0,
      "outputs": []
    },
    {
      "cell_type": "markdown",
      "metadata": {
        "id": "BLbvcORTsp2P",
        "colab_type": "text"
      },
      "source": [
        "### Sales by Segment"
      ]
    },
    {
      "cell_type": "code",
      "metadata": {
        "id": "BcPTGUd-rtt6",
        "colab_type": "code",
        "colab": {}
      },
      "source": [
        "segments = get_segment_sales()"
      ],
      "execution_count": 0,
      "outputs": []
    },
    {
      "cell_type": "markdown",
      "metadata": {
        "id": "JSx3hz1D2NN4",
        "colab_type": "text"
      },
      "source": [
        "### Additional 10-K data & Aux Fields"
      ]
    },
    {
      "cell_type": "code",
      "metadata": {
        "id": "1nQFkOqbyUNq",
        "colab_type": "code",
        "colab": {}
      },
      "source": [
        "# AAPL 2018 10-K info and AUX Fields\n",
        "add_info = pd.DataFrame({\n",
        "    'Depreciation and amortization pp&e': [-8300, -8200, -9300], # PP&E disclosure\n",
        "    'DA related to PPE as pct of capex': 0.0,\n",
        "    'DA not related to PPE': 0.0,\n",
        "    'DA not related to PPE as pct of revenue': 0.0,\n",
        "    'share_compensation_exp': cf_st.loc['Share-based compensation expense'].values,\n",
        "    'Dividends':[-12188, -12803, -13735], # From 10-k disclosure\n",
        "    'Repurchases': [-29000, -33001, -73056], # From 10-k disclosure\n",
        "    'Minimum cash balance':0.0,\n",
        "    'Cash from revolver':0.0, \n",
        "    'Discretionary Borrowing-Paydown':0.0,\n",
        "    'Weighted average interest rate on commercial paper':[0.0, 0.012, 0.0218], # Commercial Paper disclosure\n",
        "    'Interest expense Commercial Paper':0.0,\n",
        "    'Weighted average interest rate on Long Term Debt':0.0,\n",
        "    'Interest expense Long Term Debt':0.0, \n",
        "    'Weighted average interest rate on cash':[0.0173, 0.0199, 0.0216], # Other income/expense disclosure\n",
        "    'Average share price':0.0, \n",
        "    'Share price increase':0.0, \n",
        "    'Impact of dilutive securities':0.0,\n",
        "    'yoy pct growth in net income':0.0, \n",
        "    'AR as pct of sales':0.0, \n",
        "    'Days sales outstanding (DSO)':0.0, \n",
        "    'Inventory as pct of COGS':0.0, \n",
        "    'Inventory turnover':0.0, \n",
        "    'AP as pct of COGS':0.0, \n",
        "    'Days payables outstanding (DPO)':0.0,}, index = inc_st.columns.tolist()) \n",
        "    \n",
        "add_info = add_info.T\n"
      ],
      "execution_count": 0,
      "outputs": []
    },
    {
      "cell_type": "code",
      "metadata": {
        "id": "MbTmPd1JBAtd",
        "colab_type": "code",
        "colab": {}
      },
      "source": [
        "# Growth rates and Other Calculations\n",
        "other_cal = pd.DataFrame({\n",
        "    'Revenue growth': 0.0,\n",
        "    'Gross profit margin': 0.0,\n",
        "    'RD pct of sales': 0.0,\n",
        "    'SGA pct of sales': 0.0,\n",
        "    'Tax rate': 0.0,\n",
        "    'EBITDA': 0.0,\n",
        "    'Adjusted EBITDA': 0.0,\n",
        "    'Asset turnover': 0.0,\n",
        "    'Net profit margin': 0.0,\n",
        "    'ROA': 0.0,\n",
        "    'ROE': 0.0}, index = inc_st.columns.to_list())\n",
        "\n",
        "other_cal = other_cal.T\n"
      ],
      "execution_count": 0,
      "outputs": []
    },
    {
      "cell_type": "code",
      "metadata": {
        "id": "j55mJXFYo9CI",
        "colab_type": "code",
        "colab": {}
      },
      "source": [
        "# AUX Fields for Products Forecasting \n",
        "products_cal = pd.DataFrame({\n",
        "    'iPhone units growth':0.0,\n",
        "    'iPad units growth':0.0,\n",
        "    'Mac units growth':0.0,\n",
        "    'ASP iPhone growth':0.0,\n",
        "    'ASP iPad growth':0.0,\n",
        "    'ASP Mac growth':0.0,\n",
        "    'Services growth':0.0,\n",
        "    'Other Products growth':0.0,\n",
        "    'ASP iPhone':0.0,\n",
        "    'ASP Mac':0.0,   \n",
        "    'ASP iPad':0.0}, index = inc_st.columns.to_list())\n",
        "\n",
        "products_cal = products_cal.T"
      ],
      "execution_count": 0,
      "outputs": []
    },
    {
      "cell_type": "markdown",
      "metadata": {
        "id": "yuZiQk9X2az8",
        "colab_type": "text"
      },
      "source": [
        "## Connecting to Google Sheets"
      ]
    },
    {
      "cell_type": "code",
      "metadata": {
        "id": "L0QLGU_f2fBK",
        "colab_type": "code",
        "colab": {}
      },
      "source": [
        "# Creating a Spreadsheet\n",
        "sh = gs.open_by_url('https://docs.google.com/spreadsheets/d/1oLiIFFNvMJMZeQ2VnxjL87y4xQOg0CwDKgdUCr-ERFo/edit#gid=0')\n",
        "\n",
        "# Connect to Worksheets\n",
        "ws = sh.worksheet_by_title('FSM')\n"
      ],
      "execution_count": 0,
      "outputs": []
    },
    {
      "cell_type": "code",
      "metadata": {
        "id": "Jmcwf4KPuf3C",
        "colab_type": "code",
        "colab": {}
      },
      "source": [
        "# # Delete All Named Ranges\n",
        "# for i in ws.get_named_ranges():\n",
        "#   ws.delete_named_range(re.compile(r'^(?:\\S+\\s){1}(\\S+)').findall(str(i))[0])"
      ],
      "execution_count": 0,
      "outputs": []
    },
    {
      "cell_type": "markdown",
      "metadata": {
        "id": "_1FPD5oms4x1",
        "colab_type": "text"
      },
      "source": [
        "## Copying Data & Modelling Spreadsheet"
      ]
    },
    {
      "cell_type": "code",
      "metadata": {
        "id": "N_rhTMB5SRHb",
        "colab_type": "code",
        "colab": {}
      },
      "source": [
        "# Periods to forecast\n",
        "per_est = [['2019P'],['2020P'],['2021P'],['2022P'],['2023P']]\n",
        "\n",
        "# Dataframes to Copy in Worksheet 1\n",
        "list_df = [inc_st, b_sheet, cf_st_reg, segments, add_info, other_cal, products_cal]\n"
      ],
      "execution_count": 0,
      "outputs": []
    },
    {
      "cell_type": "code",
      "metadata": {
        "id": "Kzud9Jtla-47",
        "colab_type": "code",
        "colab": {}
      },
      "source": [
        "# Align Data in Spreadsheet\n",
        "# align()\n",
        "\n",
        "# Paste data into spreadsheet\n",
        "paste_df(list_df)\n",
        "\n",
        "# # Paste periods to estimate\n",
        "estimated_periods(per_est,list_df)\n",
        "\n",
        "# # Create named Ranges\n",
        "create_ranges(list_df,per_est)\n"
      ],
      "execution_count": 0,
      "outputs": []
    },
    {
      "cell_type": "markdown",
      "metadata": {
        "id": "mfb5mgSEpja_",
        "colab_type": "text"
      },
      "source": [
        "## Formulas & Data into the Spreadsheet"
      ]
    },
    {
      "cell_type": "code",
      "metadata": {
        "id": "VYBiwx1FsHF6",
        "colab_type": "code",
        "colab": {}
      },
      "source": [
        "# Function to get all created ranges\n",
        "get_ranges()"
      ],
      "execution_count": 0,
      "outputs": []
    },
    {
      "cell_type": "code",
      "metadata": {
        "id": "VLzkEZUQwk0z",
        "colab_type": "code",
        "colab": {}
      },
      "source": [
        "# Other income/(expense), net: Desegregated data from 10-K\n",
        "rows = row_historical('interest_income','cells')\n",
        "ws.update_values(crange=rows[0].label, values= [[3999, 5201, \t5686]])\n",
        "\n",
        "rows = row_historical('interest_expense','cells')\n",
        "ws.update_values(crange=rows[0].label, values= [[1456, 2323,\t3240]])\n",
        "\n",
        "rows = row_historical('other_expense_net','cells')\n",
        "ws.update_values(crange=rows[0].label, values= [[1195, 133,\t441]])\n"
      ],
      "execution_count": 0,
      "outputs": []
    },
    {
      "cell_type": "code",
      "metadata": {
        "id": "T31mceDCuS41",
        "colab_type": "code",
        "colab": {}
      },
      "source": [
        "# Income Statement Calculations\n",
        "cell_operation('gross_margin',['net_sales','gross_profit_margin'],sign='*')\n",
        "\n",
        "cell_operation('cost_of_sales',['net_sales','gross_margin'],sign='-')\n",
        "\n",
        "cell_operation('research_and_development', ['rd_pct_of_sales','net_sales'], sign='*')\n",
        "\n",
        "cell_operation('selling_general_and_administrative', ['sga_pct_of_sales','net_sales'], sign='*') \n",
        "\n",
        "cell_operation('total_operating_expenses', \n",
        "              ['research_and_development','selling_general_and_administrative'],sign=' + ')\n",
        "\n",
        "cell_operation('operating_income', ['gross_margin','-total_operating_expenses'],sign=' + ')\n",
        "\n",
        "cell_operation('income_before_provision_for_income_taxes', \n",
        "              ['operating_income','interest_income','- other_expense_net','- interest_expense'], sign=' + ')\n",
        "\n",
        "cell_operation('other_incomeexpense_net', ['- interest_expense','interest_income','- other_expense_net'], ' + ')\n",
        "\n",
        "cell_operation('provision_for_income_taxes', \n",
        "              ['tax_rate','income_before_provision_for_income_taxes'], sign=' * ')\n",
        "\n",
        "cell_operation('net_income', ['income_before_provision_for_income_taxes','-provision_for_income_taxes'], sign=' + ')\n"
      ],
      "execution_count": 0,
      "outputs": []
    },
    {
      "cell_type": "code",
      "metadata": {
        "id": "THNPbWhz49CW",
        "colab_type": "code",
        "colab": {}
      },
      "source": [
        "# Balance Sheet Calculations\n",
        "cell_operation('total_assets', \n",
        "               ['cash__equivalents_st_and_lt_marketable_securities','accounts_receivable_net',\\\n",
        "                  'inventories','other_current_assets_inc_vendor_nt_receivables',\\\n",
        "                  'Property_plant_and_equipment_net','other_non_current_assets'],\n",
        "               sign=' + ')\n",
        "\n",
        "cell_operation('total_liabilities', \n",
        "               ['accounts_payable','other_current_liabilities','deferred_revenue_current_and_non_current',\\\n",
        "                  'commercial_paper','long_term_debt_inc_current_and_non_current','other_non_current_liabilities'],\n",
        "              sign=' + ')\n",
        "\n",
        "cell_operation('total_shareholders_equity', \n",
        "               ['common_stock','retained_earnings','accumulated_other_comprehensive_incomeloss'],\n",
        "               sign=' + ')\n",
        "\n",
        "cell_operation('total_liabilities_and_shareholders_equity', \n",
        "               ['total_liabilities','total_shareholders_equity'],\n",
        "               sign=' + ')\n",
        "\n",
        "inplace_cell_operation('common_stock', 'share_based_compensation_expense', sign='+' )\n"
      ],
      "execution_count": 0,
      "outputs": []
    },
    {
      "cell_type": "code",
      "metadata": {
        "id": "75V98oZQVepi",
        "colab_type": "code",
        "colab": {}
      },
      "source": [
        "# Cashflow Statement\n",
        "items = ['net_income','depreciation_and_amortization','share_based_compensation_expense',\n",
        "         'decreases__increases_in_working_capital_assets','increases__decreases_in_working_capital_liabilities',\n",
        "         'other_non_current_assets_cf','other_non_current_liabilities_cf']\n",
        "\n",
        "cell_operation('cash_generated_by_operating_activities',items,'+')\n",
        "\n",
        "cell_operation('cash_generated_byused_in_investing_activities',\n",
        "                'payments_for_acquisition_of_property_plant_and_equipment','')\n",
        "\n",
        "items = ['payments_for_dividends_and_dividend_equivalents','repurchases_of_common_stock',\n",
        "         'change_in_commercial_paper_net','long_term_debt']\n",
        "\n",
        "cell_operation('cash_used_in_financing_activities',items,'+')\n",
        "\n",
        "items = ['cash_generated_by_operating_activities',\n",
        "         'cash_generated_byused_in_investing_activities',\n",
        "         'cash_used_in_financing_activities']\n",
        "\n",
        "cell_operation('increasedecrease_in_cash_and_cash_equivalents',items,'+')\n"
      ],
      "execution_count": 0,
      "outputs": []
    },
    {
      "cell_type": "markdown",
      "metadata": {
        "id": "u0YOpKUMaGrZ",
        "colab_type": "text"
      },
      "source": [
        "### Updating Historical Columns"
      ]
    },
    {
      "cell_type": "code",
      "metadata": {
        "id": "wNp8FMk3c7mB",
        "colab_type": "code",
        "colab": {}
      },
      "source": [
        "# EBITDA\n",
        "cell_historical('ebitda',cf_st.loc['Depreciation and amortization'].values,'operating_income',' + ')\n",
        "\n",
        "# Adjusted EBITDA\n",
        "cell_historical('adjusted_ebitda',cf_st.loc['Share-based compensation expense'].values,'ebitda',' + ')\n"
      ],
      "execution_count": 0,
      "outputs": []
    },
    {
      "cell_type": "code",
      "metadata": {
        "id": "rGhFpEgj8SpA",
        "colab_type": "code",
        "colab": {}
      },
      "source": [
        "# DA related to PPE as pct of capex\n",
        "cell_historical('da_related_to_ppe_as_pct_of_capex','depreciation_and_amortization_ppe',\n",
        "     cf_st.loc['Payments for acquisition of property, plant and equipment'].values, sign=' / ')\n",
        "\n",
        "# DA not related to PPE\n",
        "cell_historical('da_not_related_to_ppe', cf_st.loc['Depreciation and amortization'].values,\n",
        "                                                    'depreciation_and_amortization_ppe',' + ')\n",
        "\n",
        "# DA not related to PPE as % Net Sales\n",
        "cell_historical('da_not_related_to_ppe_as_pct_of_revenue', 'da_not_related_to_ppe', 'net_sales', sign='/')\n"
      ],
      "execution_count": 0,
      "outputs": []
    },
    {
      "cell_type": "code",
      "metadata": {
        "id": "awH81Ozym_jl",
        "colab_type": "code",
        "outputId": "02ebd6fb-bc4c-4fdf-ff23-59a7d9764e5e",
        "colab": {
          "base_uri": "https://localhost:8080/",
          "height": 33
        }
      },
      "source": [
        "# Gross profit margin\n",
        "cell_historical('gross_profit_margin','gross_margin','net_sales','/')\n",
        "\n",
        "# RD pct of sales\n",
        "cell_historical('rd_pct_of_sales','research_and_development', 'net_sales', '/')\n",
        "\n",
        "# SGA pct of sales\n",
        "cell_historical('sga_pct_of_sales','selling_general_and_administrative', 'net_sales', '/')\n",
        "\n",
        "# Tax rate\n",
        "cell_historical('tax_rate', 'provision_for_income_taxes', 'income_before_provision_for_income_taxes', '/')\n",
        "\n",
        "# Revenue growth\n",
        "pct_change('revenue_growth','net_sales','historical')\n",
        "\n",
        "# Ratios\n",
        "cell_historical('asset_turnover','total_assets','net_sales',' / ')\n",
        "cell_historical('net_profit_margin','net_income','net_sales',' / ')\n",
        "cell_historical('roa','net_income','total_assets',' / ')\n",
        "cell_historical('roe','net_income','total_shareholders_equity',' / ')\n",
        "\n",
        "# correct DIV Error\n",
        "row_historical('roa','cells')[0].set_value('') \n",
        "row_historical('roe','cells')[0].set_value('') \n"
      ],
      "execution_count": 0,
      "outputs": [
        {
          "output_type": "execute_result",
          "data": {
            "text/plain": [
              "<Cell B113 ''>"
            ]
          },
          "metadata": {
            "tags": []
          },
          "execution_count": 37
        }
      ]
    },
    {
      "cell_type": "markdown",
      "metadata": {
        "id": "k5PEC-AV2c_a",
        "colab_type": "text"
      },
      "source": [
        "## Forecasting"
      ]
    },
    {
      "cell_type": "markdown",
      "metadata": {
        "id": "oncWSWPh7Ucn",
        "colab_type": "text"
      },
      "source": [
        "#### Equity Research"
      ]
    },
    {
      "cell_type": "code",
      "metadata": {
        "id": "z5K1CC5Wt16F",
        "colab_type": "code",
        "colab": {}
      },
      "source": [
        "# Income Statement Projections\n",
        "update_named_range('gross_profit_margin', [0.378, 0.381, 0.382, 0.382, 0.382])\n",
        "update_named_range('rd_pct_of_sales', [0.062, 0.063, 0.063, 0.063, 0.063 ])\n",
        "update_named_range('sga_pct_of_sales', [0.074, 0.069, 0.069, 0.069, 0.069  ])\n",
        "update_named_range('tax_rate', [0.167, 0.17, 0.169, 0.169, 0.169 ])\n",
        "\n",
        "\n",
        "# CAPEX Projections\n",
        "update_named_range('payments_for_acquisition_of_property_plant_and_equipment', [-13285, -13649, -13819, -14773, -15792 ])\n"
      ],
      "execution_count": 0,
      "outputs": []
    },
    {
      "cell_type": "markdown",
      "metadata": {
        "id": "DMo8ihlL6mDg",
        "colab_type": "text"
      },
      "source": [
        "#### Grow inline with Revenue Growth"
      ]
    },
    {
      "cell_type": "code",
      "metadata": {
        "id": "XxAI39pS4yFV",
        "colab_type": "code",
        "colab": {}
      },
      "source": [
        "# Grow inline with Revenue Growth\n",
        "rg_list = ['net_sales','other_current_assets_inc_vendor_nt_receivables',\n",
        "           'other_non_current_assets','other_current_liabilities','deferred_revenue_current_and_non_current',\n",
        "           'other_non_current_liabilities','share_compensation_exp']\n",
        "      \n",
        "cell_growth(rg_list, variable='revenue_growth')\n",
        "\n",
        "cell_operation('share_based_compensation_expense','share_compensation_exp','')\n"
      ],
      "execution_count": 0,
      "outputs": []
    },
    {
      "cell_type": "markdown",
      "metadata": {
        "id": "72zGQ1Cv6zOx",
        "colab_type": "text"
      },
      "source": [
        "#### Grow inline with COGS"
      ]
    },
    {
      "cell_type": "code",
      "metadata": {
        "id": "Xh9QR55x6uaB",
        "colab_type": "code",
        "colab": {}
      },
      "source": [
        "# Grow inline with COGS Growth\n",
        "# cg_list = ['inventories','accounts_payable']\n",
        "\n",
        "# inplace_growth(cg_list, variable='cost_of_sales') # Elimiar la formula 'inplace_growth'"
      ],
      "execution_count": 0,
      "outputs": []
    },
    {
      "cell_type": "markdown",
      "metadata": {
        "id": "JmffGWEH66wW",
        "colab_type": "text"
      },
      "source": [
        "#### Straight line"
      ]
    },
    {
      "cell_type": "code",
      "metadata": {
        "id": "338HNidc7fhK",
        "colab_type": "code",
        "colab": {}
      },
      "source": [
        "# Straight line\n",
        "sl_list = ['other_expense_net','dividends','repurchases','long_term_debt_inc_current_and_non_current',\n",
        "           'accumulated_other_comprehensive_incomeloss', 'weighted_average_interest_rate_on_commercial_paper',\n",
        "           'weighted_average_interest_rate_on_cash']\n",
        "\n",
        "straight_line(sl_list)\n"
      ],
      "execution_count": 0,
      "outputs": []
    },
    {
      "cell_type": "markdown",
      "metadata": {
        "id": "tiFxLgpI9jh7",
        "colab_type": "text"
      },
      "source": [
        "### Scheadules"
      ]
    },
    {
      "cell_type": "markdown",
      "metadata": {
        "id": "irCQSccV4H7Y",
        "colab_type": "text"
      },
      "source": [
        "#### Working Capital"
      ]
    },
    {
      "cell_type": "code",
      "metadata": {
        "id": "pOLcLEUv4KqX",
        "colab_type": "code",
        "colab": {}
      },
      "source": [
        "# Accounts Receivable\n",
        "# Update Historical\n",
        "cell_historical('ar_as_pct_of_sales','accounts_receivable_net','net_sales',' / ')\n",
        "\n",
        "var = row_historical('ar_as_pct_of_sales','cells')\n",
        "target = row_historical('days_sales_outstanding_dso','cells')\n",
        "tup = list(zip(target,var))\n",
        "\n",
        "for i in range(len(tup)):\n",
        "  tup[i][0].formula = tup[i][1].label + '* 365'\n",
        "\n",
        "# Average the last two periods\n",
        "cells = named_range('ar_as_pct_of_sales','cells')\n",
        "for i in cells:\n",
        "  i.formula = 'AVERAGE('+ cells[0].neighbour((0,-2)).label + ':' + cells[0].neighbour('left').label + ')'\n",
        "\n",
        "# Days in Estimated Periods\n",
        "cells = named_range('days_sales_outstanding_dso','cells')\n",
        "for i in cells:\n",
        "  i.formula = 'ar_as_pct_of_sales' + ' * 365'\n",
        "\n",
        "# Computing AR\n",
        "cell_operation('accounts_receivable_net',['net_sales','ar_as_pct_of_sales'],' * ')\n"
      ],
      "execution_count": 0,
      "outputs": []
    },
    {
      "cell_type": "code",
      "metadata": {
        "id": "BR-v20zr4KkA",
        "colab_type": "code",
        "colab": {}
      },
      "source": [
        "# Inventory\n",
        "# Update Historical\n",
        "cell_historical('inventory_as_pct_of_cogs','inventories','cost_of_sales',' / ')\n",
        "cell_historical('inventory_turnover','cost_of_sales','inventories',' / ')\n",
        "row_historical('inventory_turnover','cells')[0].set_value('') # correct DIV Error\n",
        "\n",
        "# Average the last two periods\n",
        "cells = named_range('inventory_as_pct_of_cogs','cells')\n",
        "for i in cells:\n",
        "  i.formula = 'AVERAGE('+ cells[0].neighbour((0,-2)).label + ':' + cells[0].neighbour('left').label + ')'\n",
        "\n",
        "# Inventory Turnover\n",
        "cell_operation('inventory_turnover',['cost_of_sales','inventories'],'/')\n",
        "\n",
        "# Compute Inventory\n",
        "cell_operation('inventories',['cost_of_sales','inventory_as_pct_of_cogs'],' * ')\n"
      ],
      "execution_count": 0,
      "outputs": []
    },
    {
      "cell_type": "code",
      "metadata": {
        "id": "jKs0xxIS4Ka7",
        "colab_type": "code",
        "colab": {}
      },
      "source": [
        "# Accounts Payble\n",
        "# Update Historical\n",
        "cell_historical('ap_as_pct_of_cogs','accounts_payable','cost_of_sales',' / ')\n",
        "\n",
        "var = row_historical('ap_as_pct_of_cogs','cells')\n",
        "target = row_historical('days_payables_outstanding_dpo','cells')\n",
        "tup = list(zip(target,var))\n",
        "\n",
        "for i in range(len(tup)):\n",
        "  tup[i][0].formula = tup[i][1].label + '* 365'\n",
        "\n",
        "# Average the last two periods\n",
        "cells = named_range('ap_as_pct_of_cogs','cells')\n",
        "for i in cells:\n",
        "  i.formula = 'AVERAGE('+ cells[0].neighbour((0,-2)).label + ':' + cells[0].neighbour('left').label + ')'\n",
        "\n",
        "# Days in Estimated Periods\n",
        "cells = named_range('days_payables_outstanding_dpo','cells')\n",
        "for i in cells:\n",
        "  i.formula = 'ap_as_pct_of_cogs' + ' * 365'\n",
        "\n",
        "# Computing AP\n",
        "cell_operation('accounts_payable',['cost_of_sales','ap_as_pct_of_cogs'],' * ')\n"
      ],
      "execution_count": 0,
      "outputs": []
    },
    {
      "cell_type": "markdown",
      "metadata": {
        "id": "Dtmc2lfM8RgY",
        "colab_type": "text"
      },
      "source": [
        "#### PP&E"
      ]
    },
    {
      "cell_type": "code",
      "metadata": {
        "id": "YJIGQ48t8QeR",
        "colab_type": "code",
        "colab": {}
      },
      "source": [
        "# Last Row in Worksheet\n",
        "start, pos = 1, [1]\n",
        "for i in list_df:\n",
        "    start = start + len(i) + 3\n",
        "    pos.append(start)\n",
        "\n",
        "# Create Variable\n",
        "ws.update_value('A'+ str(pos[-1]), 'Depreciation Factor')\n",
        "# Name of Variable\n",
        "dep_factor = 'depreciation_factor'\n",
        "ws.create_named_range(dep_factor, start='B'+ str(pos[-1]),end='B'+ str(pos[-1]),grange=0)\n",
        "# Update Value\n",
        "ws.get_named_range(dep_factor).update_values([[0.02]])\n"
      ],
      "execution_count": 0,
      "outputs": []
    },
    {
      "cell_type": "code",
      "metadata": {
        "id": "_Na10WYGd68T",
        "colab_type": "code",
        "colab": {}
      },
      "source": [
        "# DA related to PPE as pct of capex\n",
        "inplace_cell_operation('da_related_to_ppe_as_pct_of_capex',dep_factor,' + ')\n",
        "\n",
        "# Depreciation and amortization pp&e\n",
        "cell_operation('depreciation_and_amortization_ppe',\n",
        "               ['payments_for_acquisition_of_property_plant_and_equipment','da_related_to_ppe_as_pct_of_capex'],\n",
        "               '*')\n",
        "\n",
        "# DA not related to PPE\n",
        "straight_line('da_not_related_to_ppe_as_pct_of_revenue')\n",
        "cell_operation('da_not_related_to_ppe',['da_not_related_to_ppe_as_pct_of_revenue','net_sales'],'*')\n"
      ],
      "execution_count": 0,
      "outputs": []
    },
    {
      "cell_type": "code",
      "metadata": {
        "id": "yjA5nlm7kGMC",
        "colab_type": "code",
        "colab": {}
      },
      "source": [
        "# Cashflow: Depreciation and Amortization\n",
        "cell_operation('depreciation_and_amortization',\n",
        "               ['-depreciation_and_amortization_ppe','da_not_related_to_ppe'],'+')\n",
        "\n",
        "\n",
        "# Balance Sheets: Property, plant and equipment, net\n",
        "items = ['- payments_for_acquisition_of_property_plant_and_equipment','depreciation_and_amortization_ppe']\n",
        "inplace_cell_operation('property_plant_and_equipment_net', items, ' + ')\n"
      ],
      "execution_count": 0,
      "outputs": []
    },
    {
      "cell_type": "markdown",
      "metadata": {
        "id": "R75zfYUm8UM7",
        "colab_type": "text"
      },
      "source": [
        "#### Other non-current assets"
      ]
    },
    {
      "cell_type": "code",
      "metadata": {
        "id": "UOWcwVFO8Xhc",
        "colab_type": "code",
        "colab": {}
      },
      "source": [
        "cell_last_per_operation('other_non_current_assets_cf','other_non_current_assets',\n",
        "                        ['other_non_current_assets','da_not_related_to_ppe'],\n",
        "                        sign=' - ')"
      ],
      "execution_count": 0,
      "outputs": []
    },
    {
      "cell_type": "markdown",
      "metadata": {
        "id": "QFh0xejD8ZB9",
        "colab_type": "text"
      },
      "source": [
        "#### Retained Earnings"
      ]
    },
    {
      "cell_type": "code",
      "metadata": {
        "id": "eC5Axnl5ZLqh",
        "colab_type": "code",
        "colab": {}
      },
      "source": [
        "inplace_cell_operation('retained_earnings',['net_income','dividends','repurchases'],sign=' + ')\n",
        "\n",
        "# To Cashflow\n",
        "cell_operation('payments_for_dividends_and_dividend_equivalents','dividends','')\n",
        "cell_operation('repurchases_of_common_stock','repurchases','')\n"
      ],
      "execution_count": 0,
      "outputs": []
    },
    {
      "cell_type": "markdown",
      "metadata": {
        "id": "BgU8ZUGD8cMm",
        "colab_type": "text"
      },
      "source": [
        "#### The Revolving Credit Facility"
      ]
    },
    {
      "cell_type": "code",
      "metadata": {
        "id": "qRZZ14T2ojoD",
        "colab_type": "code",
        "colab": {}
      },
      "source": [
        "# Minumun Cash Balance Assumptions\n",
        "update_named_range('minimum_cash_balance', [-50000]*5)\n"
      ],
      "execution_count": 0,
      "outputs": []
    },
    {
      "cell_type": "code",
      "metadata": {
        "id": "ElreS5RE6XrR",
        "colab_type": "code",
        "colab": {}
      },
      "source": [
        "# # Cash available (needed) to pay down (draw from) revolver\n",
        "cell_last_per_operation('cash_from_revolver','cash__equivalents_st_and_lt_marketable_securities',\n",
        "                        ['minimum_cash_balance','increasedecrease_in_cash_and_cash_equivalents',\n",
        "                         '- change_in_commercial_paper_net'],' + ')\n"
      ],
      "execution_count": 0,
      "outputs": []
    },
    {
      "cell_type": "code",
      "metadata": {
        "id": "5qYvNz8dk3RU",
        "colab_type": "code",
        "colab": {}
      },
      "source": [
        "# Discretionary borrowing/paydown\n",
        "update_named_range('discretionary_borrowing_paydown',[12000]*5)\n",
        "\n",
        "# Revolver\n",
        "revolver('commercial_paper','cash_from_revolver','discretionary_borrowing_paydown')\n"
      ],
      "execution_count": 0,
      "outputs": []
    },
    {
      "cell_type": "markdown",
      "metadata": {
        "id": "eSfoe6ho8rqn",
        "colab_type": "text"
      },
      "source": [
        "#### Interest Expense"
      ]
    },
    {
      "cell_type": "markdown",
      "metadata": {
        "id": "bc_3b6YDINWo",
        "colab_type": "text"
      },
      "source": [
        "##### Update Historicals"
      ]
    },
    {
      "cell_type": "code",
      "metadata": {
        "id": "qaVfxutvsXrD",
        "colab_type": "code",
        "colab": {}
      },
      "source": [
        "# Historical Interest Expense for Commercial Paper\n",
        "\n",
        "historical_interest_expense('interest_expense_commercial_paper',\n",
        "                            'commercial_paper','weighted_average_interest_rate_on_commercial_paper')\n"
      ],
      "execution_count": 0,
      "outputs": []
    },
    {
      "cell_type": "code",
      "metadata": {
        "id": "7Vzk9ai413OB",
        "colab_type": "code",
        "colab": {}
      },
      "source": [
        "# Historical Interest Expense for Long Term Debt\n",
        "cell_historical('interest_expense_long_term_debt','interest_expense','interest_expense_commercial_paper',' - ')\n"
      ],
      "execution_count": 0,
      "outputs": []
    },
    {
      "cell_type": "code",
      "metadata": {
        "id": "EIYTlFpM3el0",
        "colab_type": "code",
        "colab": {}
      },
      "source": [
        "# Historical Weighted Average Rate for Long Term Debt\n",
        "historical_weighted_avg_interest_rate('weighted_average_interest_rate_on_long_term_debt',\n",
        "                                      'long_term_debt_inc_current_and_non_current',\n",
        "                                      'interest_expense_long_term_debt')\n"
      ],
      "execution_count": 0,
      "outputs": []
    },
    {
      "cell_type": "markdown",
      "metadata": {
        "id": "ElQgklPXIKHq",
        "colab_type": "text"
      },
      "source": [
        "##### Forecasting"
      ]
    },
    {
      "cell_type": "code",
      "metadata": {
        "id": "CcAkKSlLG81S",
        "colab_type": "code",
        "colab": {}
      },
      "source": [
        "# Forecasting Weighted Average Rate for Long Term Debt\n",
        "straight_line('weighted_average_interest_rate_on_long_term_debt')\n",
        "\n",
        "# Commercial Paper Interest Expense\n",
        "avg_last_per('interest_expense_commercial_paper','commercial_paper','weighted_average_interest_rate_on_commercial_paper')\n",
        "\n",
        "# Long Term Debt Interest Expense\n",
        "avg_last_per('interest_expense_long_term_debt',\n",
        "             'long_term_debt_inc_current_and_non_current','weighted_average_interest_rate_on_long_term_debt')\n",
        "\n",
        "# Total Interest Expense\n",
        "cell_operation('interest_expense',['interest_expense_long_term_debt','interest_expense_commercial_paper'],' + ')\n"
      ],
      "execution_count": 0,
      "outputs": []
    },
    {
      "cell_type": "markdown",
      "metadata": {
        "id": "ugUoWz428uPb",
        "colab_type": "text"
      },
      "source": [
        "#### Interest Income"
      ]
    },
    {
      "cell_type": "code",
      "metadata": {
        "id": "31ZVaUCTvqrM",
        "colab_type": "code",
        "colab": {}
      },
      "source": [
        "avg_last_per('interest_income','cash__equivalents_st_and_lt_marketable_securities','weighted_average_interest_rate_on_cash')\n"
      ],
      "execution_count": 0,
      "outputs": []
    },
    {
      "cell_type": "markdown",
      "metadata": {
        "id": "aY3DUB2c89r0",
        "colab_type": "text"
      },
      "source": [
        "### Statements Reconciliation"
      ]
    },
    {
      "cell_type": "code",
      "metadata": {
        "id": "jxV46dOz9BDp",
        "colab_type": "code",
        "colab": {}
      },
      "source": [
        "# EBITDA and Adjusted EBITDA\n",
        "cell_operation('ebitda',['operating_income','depreciation_and_amortization'],' + ')\n",
        "cell_operation('adjusted_ebitda',['ebitda','share_based_compensation_expense'],' + ')\n",
        "\n",
        "# Balance: Cash and Equivalents\n",
        "inplace_cell_operation('cash__equivalents_st_and_lt_marketable_securities',\n",
        "                       'increasedecrease_in_cash_and_cash_equivalents',' + ')\n",
        "\n",
        "# Change in Commercial Paper\n",
        "diff_abs('change_in_commercial_paper_net','commercial_paper')\n",
        "\n",
        "# Change in Long Term Debt\n",
        "diff_abs('long_term_debt','long_term_debt_inc_current_and_non_current')\n"
      ],
      "execution_count": 0,
      "outputs": []
    },
    {
      "cell_type": "code",
      "metadata": {
        "id": "So1JSQww4-Z3",
        "colab_type": "code",
        "colab": {}
      },
      "source": [
        "# Cashflow: Other non-current liabilities\n",
        "diff_abs('other_non_current_liabilities_cf','other_non_current_liabilities')\n",
        "\n",
        "# Cashflow: Decreases / (Increases) in working capital assets\n",
        "diff_abs('decreases__increases_in_working_capital_assets',\n",
        "         ['accounts_receivable_net','inventories','other_current_assets_inc_vendor_nt_receivables'])\n",
        "\n",
        "# Multiply by -1: For cashflow is a negative cash flow\n",
        "for i in named_range('decreases__increases_in_working_capital_assets','cells'):\n",
        "  i.formula = '(' + i.formula.replace('=','') + ')* - 1'\n",
        "\n",
        "# Cashflow: Increases / (Decreases) in working capital liabilities\n",
        "diff_abs('increases__decreases_in_working_capital_liabilities',\n",
        "         ['accounts_payable','other_current_liabilities','deferred_revenue_current_and_non_current'])\n"
      ],
      "execution_count": 0,
      "outputs": []
    },
    {
      "cell_type": "code",
      "metadata": {
        "id": "lT96ouempnDm",
        "colab_type": "code",
        "colab": {}
      },
      "source": [
        "# Ratios\n",
        "# Forecast Period: Computing Ratios\n",
        "cell_operation('asset_turnover',['total_assets','net_sales'],' / ')\n",
        "cell_operation('net_profit_margin',['net_income','net_sales'],' / ')\n",
        "cell_operation('roa',['net_income','total_assets'],' / ')\n",
        "cell_operation('roe',['net_income','total_shareholders_equity'],' / ')\n"
      ],
      "execution_count": 0,
      "outputs": []
    },
    {
      "cell_type": "code",
      "metadata": {
        "id": "ScT7j9riB4ZF",
        "colab_type": "code",
        "colab": {}
      },
      "source": [
        "# Balance Check\n",
        "balance_check(list_df)\n",
        "\n",
        "# Historical Columns\n",
        "cell_historical('balance_check','total_assets','total_liabilities_and_shareholders_equity',' - ')\n"
      ],
      "execution_count": 0,
      "outputs": []
    },
    {
      "cell_type": "markdown",
      "metadata": {
        "id": "-Ib8ePyUbY6k",
        "colab_type": "text"
      },
      "source": [
        "### Forecasting EPS"
      ]
    },
    {
      "cell_type": "code",
      "metadata": {
        "id": "ABivCFSDbjl7",
        "colab_type": "code",
        "outputId": "e8c90cc5-d327-417a-b6fb-7c99868969dc",
        "colab": {
          "base_uri": "https://localhost:8080/",
          "height": 33
        }
      },
      "source": [
        "# Average Stock Price From Stock Data\n",
        "df = web.DataReader('AAPL', 'yahoo',start='2018',end='2019')['Adj Close']\n",
        "avg_stock_price = df.mean()\n",
        "# Update Mean in Cell\n",
        "stock = named_range('average_share_price','cells')[0].label\n",
        "ws.cell(stock).set_value(avg_stock_price)\n"
      ],
      "execution_count": 0,
      "outputs": [
        {
          "output_type": "execute_result",
          "data": {
            "text/plain": [
              "<Cell E90 184.07218519719947>"
            ]
          },
          "metadata": {
            "tags": []
          },
          "execution_count": 62
        }
      ]
    },
    {
      "cell_type": "code",
      "metadata": {
        "id": "gG3kvXcctwtP",
        "colab_type": "code",
        "colab": {}
      },
      "source": [
        "# Net Income Pct Change\n",
        "pct_change('yoy_pct_growth_in_net_income','net_income','historical')\n",
        "pct_change('yoy_pct_growth_in_net_income','net_income','forecast')\n",
        "\n",
        "# Stock Price Forecasting\n",
        "target = named_range('average_share_price','cells')[1:]\n",
        "for i in target:\n",
        "  i.formula = i.neighbour('left').label + str(' * (1 + ') + 'yoy_pct_growth_in_net_income' + ')'\n",
        "\n",
        "# Share price Increase/Decrease = YOY % growth in Net Income\n",
        "cell_operation('share_price_increase','yoy_pct_growth_in_net_income','')\n"
      ],
      "execution_count": 0,
      "outputs": []
    },
    {
      "cell_type": "code",
      "metadata": {
        "id": "oye27Dl_bxSW",
        "colab_type": "code",
        "colab": {}
      },
      "source": [
        "# Computing Basic Shares\n",
        "cells = named_range('basic_in_shares','cells')\n",
        "\n",
        "for i in cells:\n",
        "  i.formula = i.neighbour('left').label + ' + ('+'share_based_compensation_expense' +\\\n",
        "            ' - repurchases_of_common_stock'+')/'+'average_share_price'\n",
        "\n",
        "# Computing Basic EPS\n",
        "cell_operation('basic_in_dollars_per_share',['net_income','basic_in_shares'],' / ')\n",
        "\n",
        "# Multiply by 1000\n",
        "for i in named_range('basic_in_dollars_per_share','cells'):\n",
        "  i.formula = '(' + i.formula.replace('=','') + ')* 1000'\n"
      ],
      "execution_count": 0,
      "outputs": []
    },
    {
      "cell_type": "code",
      "metadata": {
        "id": "-VARGbNBAWGN",
        "colab_type": "code",
        "colab": {}
      },
      "source": [
        "# Computing Historical: Impact of dilutive securities  \n",
        "cell_historical('impact_of_dilutive_securities','diluted_in_shares','basic_in_shares',' - ')\n",
        "\n",
        "# Computing Diluted Shares\n",
        "cell_last_per_operation('diluted_in_shares','impact_of_dilutive_securities','basic_in_shares',' + ')\n",
        "\n",
        "# Computing Diluted EPS\n",
        "cell_operation('diluted_in_dollars_per_share',['net_income','diluted_in_shares'],' / ')\n",
        "\n",
        "# Multiply by 1000\n",
        "for i in named_range('diluted_in_dollars_per_share','cells'):\n",
        "  i.formula = '(' + i.formula.replace('=','') + ')* 1000'\n",
        "\n",
        "# Forecast Calculation: Impact of dilutive securities\n",
        "cell_operation('impact_of_dilutive_securities',['diluted_in_shares','basic_in_shares'],' - ')\n"
      ],
      "execution_count": 0,
      "outputs": []
    },
    {
      "cell_type": "markdown",
      "metadata": {
        "id": "wnet1nJubtR-",
        "colab_type": "text"
      },
      "source": [
        "### Forecasting Revenue"
      ]
    },
    {
      "cell_type": "code",
      "metadata": {
        "id": "dsF6ASzQbwku",
        "colab_type": "code",
        "colab": {}
      },
      "source": [
        "# Update Historicals\n",
        "pct_change('iphone_units_growth','iphone_units','historical')\n",
        "pct_change('ipad_units_growth','ipad_units','historical')\n",
        "pct_change('mac_units_growth','mac_units','historical')\n",
        "\n",
        "# Historical Average Selling Price (ASP)\n",
        "cell_historical('asp_iphone','iphone_1','iphone_units',' / ')\n",
        "cell_historical('asp_ipad','ipad_1','ipad_units',' / ')\n",
        "cell_historical('asp_mac','mac_1','mac_units',' / ')\n",
        "\n",
        "# ASP:  Multiply by 1000\n",
        "rg = ['asp_iphone','asp_ipad','asp_mac']\n",
        "\n",
        "for i in rg:\n",
        "  for ii in row_historical(i,'cells'):\n",
        "    ii.formula = ii.formula.replace('=','') + '* 1000'\n",
        "\n",
        "# ASP Historical Growth\n",
        "pct_change('asp_iphone_growth','asp_iphone','historical')\n",
        "pct_change('asp_ipad_growth','asp_ipad','historical')\n",
        "pct_change('asp_mac_growth','asp_mac','historical')\n",
        "\n",
        "# Historical: Other Products and Services Growth\n",
        "pct_change('services_growth','services_2','historical')\n",
        "pct_change('other_products_growth','other_products_13','historical')\n"
      ],
      "execution_count": 0,
      "outputs": []
    },
    {
      "cell_type": "code",
      "metadata": {
        "id": "VXOfIxGVbwy9",
        "colab_type": "code",
        "colab": {}
      },
      "source": [
        "# Forecasting Growth Units\n",
        "update_named_range('iphone_units_growth',[-0.20, 0.09, 0.01, 0, 0 ])\n",
        "update_named_range('ipad_units_growth', [0.06, 0.067, 0.01, 0, 0 ])\n",
        "update_named_range('mac_units_growth', [0.08, -0.03, 0, 0, 0 ])\n",
        "\n",
        "# Forecasting ASP Growth\n",
        "update_named_range('asp_iphone_growth', [0.035, -0.09, 0, 0, 0 ])\n",
        "update_named_range('asp_ipad_growth', [0.02, -0.05, 0, 0, 0 ])\n",
        "update_named_range('asp_mac_growth', [-0.04, 0.03, 0, 0, 0 ])\n",
        "\n",
        "# Other Products and Services Growth\n",
        "update_named_range('other_products_growth', [0.32, 0.15, 0.15, 0.15, 0.15])\n",
        "update_named_range('services_growth', [0.23, 0.17, 0.17, 0.17, 0.17 ])\n"
      ],
      "execution_count": 0,
      "outputs": []
    },
    {
      "cell_type": "code",
      "metadata": {
        "id": "oaRFVcEgu-qB",
        "colab_type": "code",
        "colab": {}
      },
      "source": [
        "# Computing Forecast Periods\n",
        "# ASP\n",
        "cell_growth('asp_iphone','asp_iphone_growth')\n",
        "cell_growth('asp_ipad','asp_ipad_growth')\n",
        "cell_growth('asp_mac','asp_mac_growth')\n",
        "cell_growth('other_products_13','other_products_growth')\n",
        "cell_growth('services_2','services_growth')\n",
        "\n",
        "# Units\n",
        "cell_growth('iphone_units','iphone_units_growth')\n",
        "cell_growth('ipad_units','ipad_units_growth')\n",
        "cell_growth('mac_units','mac_units_growth')\n",
        "\n",
        "# Product Sales\n",
        "cell_operation('iphone_1',['iphone_units','asp_iphone'],' * ')\n",
        "cell_operation('ipad_1',['ipad_units','asp_ipad'],' * ')\n",
        "cell_operation('mac_1',['mac_units','asp_mac'],' * ')\n",
        "\n",
        "# Product Sales: Divide Outcome by 1000\n",
        "rg = ['iphone_1','ipad_1','mac_1']\n",
        "\n",
        "for i in rg:\n",
        "  for ii in named_range(i,'cells'):\n",
        "    ii.formula = ii.formula.replace('=','') + '/ 1000'\n",
        "\n",
        "# Total Net Sales\n",
        "cell_operation('total_net_sales',\n",
        "               ['iphone_1','ipad_1','mac_1','other_products_13','services_2'],' + ')\n",
        "\n",
        "# Net Sales Growth (Revenue Growth)\n",
        "pct_change('revenue_growth','total_net_sales','forecast')\n"
      ],
      "execution_count": 0,
      "outputs": []
    },
    {
      "cell_type": "markdown",
      "metadata": {
        "id": "nb-7Nd8j58re",
        "colab_type": "text"
      },
      "source": [
        "## CAGR"
      ]
    },
    {
      "cell_type": "code",
      "metadata": {
        "id": "CnSvZ5Zm5-gH",
        "colab_type": "code",
        "colab": {}
      },
      "source": [
        "cagr(['net_sales','gross_margin','operating_income',\n",
        "      'income_before_provision_for_income_taxes','net_income'],per_est)\n"
      ],
      "execution_count": 0,
      "outputs": []
    }
  ]
}